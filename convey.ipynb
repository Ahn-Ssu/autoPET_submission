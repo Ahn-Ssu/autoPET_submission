{
 "cells": [
  {
   "cell_type": "code",
   "execution_count": 7,
   "metadata": {},
   "outputs": [],
   "source": [
    "import pandas as pd\n",
    "import glob\n",
    "from tqdm import tqdm\n",
    "import os\n",
    "import shutil"
   ]
  },
  {
   "cell_type": "code",
   "execution_count": 11,
   "metadata": {},
   "outputs": [
    {
     "data": {
      "text/html": [
       "<div>\n",
       "<style scoped>\n",
       "    .dataframe tbody tr th:only-of-type {\n",
       "        vertical-align: middle;\n",
       "    }\n",
       "\n",
       "    .dataframe tbody tr th {\n",
       "        vertical-align: top;\n",
       "    }\n",
       "\n",
       "    .dataframe thead th {\n",
       "        text-align: right;\n",
       "    }\n",
       "</style>\n",
       "<table border=\"1\" class=\"dataframe\">\n",
       "  <thead>\n",
       "    <tr style=\"text-align: right;\">\n",
       "      <th></th>\n",
       "      <th>Unnamed: 0</th>\n",
       "      <th>ori_dim</th>\n",
       "      <th>ori_shape</th>\n",
       "      <th>new_shape</th>\n",
       "      <th>path</th>\n",
       "    </tr>\n",
       "  </thead>\n",
       "  <tbody>\n",
       "    <tr>\n",
       "      <th>0</th>\n",
       "      <td>0</td>\n",
       "      <td>(0.9765625, 0.9765625, 2.5)</td>\n",
       "      <td>(512, 512, 356)</td>\n",
       "      <td>(246, 246, 297)</td>\n",
       "      <td>d:/AutoPET_data/CT_dir\\ACRIN-NSCLC-FDG-PET\\ACR...</td>\n",
       "    </tr>\n",
       "    <tr>\n",
       "      <th>1</th>\n",
       "      <td>1</td>\n",
       "      <td>(0.73046875, 0.73046875, 5.0)</td>\n",
       "      <td>(512, 512, 70)</td>\n",
       "      <td>(184, 184, 117)</td>\n",
       "      <td>d:/AutoPET_data/CT_dir\\ACRIN-NSCLC-FDG-PET\\ACR...</td>\n",
       "    </tr>\n",
       "    <tr>\n",
       "      <th>2</th>\n",
       "      <td>2</td>\n",
       "      <td>(0.9765625, 0.9765625, 2.5)</td>\n",
       "      <td>(512, 512, 307)</td>\n",
       "      <td>(246, 246, 256)</td>\n",
       "      <td>d:/AutoPET_data/CT_dir\\ACRIN-NSCLC-FDG-PET\\ACR...</td>\n",
       "    </tr>\n",
       "    <tr>\n",
       "      <th>3</th>\n",
       "      <td>3</td>\n",
       "      <td>(0.6171875, 0.6171875, 5.0)</td>\n",
       "      <td>(512, 512, 74)</td>\n",
       "      <td>(155, 155, 123)</td>\n",
       "      <td>d:/AutoPET_data/CT_dir\\ACRIN-NSCLC-FDG-PET\\ACR...</td>\n",
       "    </tr>\n",
       "    <tr>\n",
       "      <th>4</th>\n",
       "      <td>4</td>\n",
       "      <td>(0.6171875, 0.6171875, 5.0)</td>\n",
       "      <td>(512, 512, 64)</td>\n",
       "      <td>(155, 155, 107)</td>\n",
       "      <td>d:/AutoPET_data/CT_dir\\ACRIN-NSCLC-FDG-PET\\ACR...</td>\n",
       "    </tr>\n",
       "  </tbody>\n",
       "</table>\n",
       "</div>"
      ],
      "text/plain": [
       "   Unnamed: 0                        ori_dim        ori_shape  \\\n",
       "0           0    (0.9765625, 0.9765625, 2.5)  (512, 512, 356)   \n",
       "1           1  (0.73046875, 0.73046875, 5.0)   (512, 512, 70)   \n",
       "2           2    (0.9765625, 0.9765625, 2.5)  (512, 512, 307)   \n",
       "3           3    (0.6171875, 0.6171875, 5.0)   (512, 512, 74)   \n",
       "4           4    (0.6171875, 0.6171875, 5.0)   (512, 512, 64)   \n",
       "\n",
       "         new_shape                                               path  \n",
       "0  (246, 246, 297)  d:/AutoPET_data/CT_dir\\ACRIN-NSCLC-FDG-PET\\ACR...  \n",
       "1  (184, 184, 117)  d:/AutoPET_data/CT_dir\\ACRIN-NSCLC-FDG-PET\\ACR...  \n",
       "2  (246, 246, 256)  d:/AutoPET_data/CT_dir\\ACRIN-NSCLC-FDG-PET\\ACR...  \n",
       "3  (155, 155, 123)  d:/AutoPET_data/CT_dir\\ACRIN-NSCLC-FDG-PET\\ACR...  \n",
       "4  (155, 155, 107)  d:/AutoPET_data/CT_dir\\ACRIN-NSCLC-FDG-PET\\ACR...  "
      ]
     },
     "execution_count": 11,
     "metadata": {},
     "output_type": "execute_result"
    }
   ],
   "source": [
    "\n",
    "df = pd.read_csv('D:\\\\git\\\\autoPET\\\\val_CT_list(128x128x96).csv')\n",
    "df.head()"
   ]
  },
  {
   "cell_type": "code",
   "execution_count": 12,
   "metadata": {},
   "outputs": [
    {
     "name": "stderr",
     "output_type": "stream",
     "text": [
      " 16%|█▋        | 1030/6313 [01:54<10:46,  8.17it/s]"
     ]
    }
   ],
   "source": [
    "######### for valid_CT img\n",
    "target_root_dir = \"D:\\\\AutoPET_data\\\\valid_CT\"\n",
    "\n",
    "for path in tqdm(df['path']):\n",
    "    chunk = path.split('\\\\') \n",
    "    \n",
    "    relative = chunk[2]\n",
    "    relative = relative.split('\\\\')\n",
    "    \n",
    "    \n",
    "    target = '\\\\'.join(relative[1:-2]) # 이게 어떤 파일인지 굳이 안 필요함 \n",
    "    filename = relative[-1]\n",
    "    copy = os.path.join(target_root_dir, target)\n",
    "    if not os.path.isdir(copy):\n",
    "        os.makedirs(copy)\n",
    "        \n",
    "    shutil.copy(path, os.path.join(copy,filename))\n"
   ]
  },
  {
   "cell_type": "code",
   "execution_count": null,
   "metadata": {},
   "outputs": [],
   "source": []
  }
 ],
 "metadata": {
  "kernelspec": {
   "display_name": "medical",
   "language": "python",
   "name": "python3"
  },
  "language_info": {
   "codemirror_mode": {
    "name": "ipython",
    "version": 3
   },
   "file_extension": ".py",
   "mimetype": "text/x-python",
   "name": "python",
   "nbconvert_exporter": "python",
   "pygments_lexer": "ipython3",
   "version": "3.11.4"
  },
  "orig_nbformat": 4
 },
 "nbformat": 4,
 "nbformat_minor": 2
}
