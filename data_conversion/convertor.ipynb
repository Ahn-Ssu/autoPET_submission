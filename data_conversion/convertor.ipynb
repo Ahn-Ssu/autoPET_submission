{
 "cells": [
  {
   "cell_type": "code",
   "execution_count": 1,
   "metadata": {},
   "outputs": [],
   "source": [
    "import tcia2nifti as t2n\n",
    "import glob\n",
    "import os\n",
    "from tqdm import tqdm\n",
    "\n",
    "import pandas as pd\n",
    "import pathlib as plb\n",
    "import tempfile\n",
    "import dicom2nifti\n",
    "import SimpleITK as sitk\n",
    "import shutil\n",
    "import nibabel as nib"
   ]
  },
  {
   "cell_type": "code",
   "execution_count": 3,
   "metadata": {},
   "outputs": [
    {
     "name": "stdout",
     "output_type": "stream",
     "text": [
      "path_to_data='F:/1_Lung-PET-CT-Dx/Lung-PET-CT-Dx'\n"
     ]
    },
    {
     "name": "stderr",
     "output_type": "stream",
     "text": [
      "  0%|          | 0/436 [00:00<?, ?it/s]"
     ]
    },
    {
     "name": "stderr",
     "output_type": "stream",
     "text": [
      "100%|██████████| 436/436 [00:08<00:00, 53.12it/s]\n"
     ]
    },
    {
     "name": "stdout",
     "output_type": "stream",
     "text": [
      "Lung-PET-CT-Dx, # of Study=436 # of PET=133, # of CT=1162\n",
      "\n",
      "path_to_data='F:/2_Head-Neck-PET-CT/Head-Neck-PET-CT'\n"
     ]
    },
    {
     "name": "stderr",
     "output_type": "stream",
     "text": [
      "100%|██████████| 694/694 [03:53<00:00,  2.97it/s]\n"
     ]
    },
    {
     "name": "stdout",
     "output_type": "stream",
     "text": [
      "Head-Neck-PET-CT, # of Study=694 # of PET=298, # of CT=504\n",
      "\n",
      "path_to_data='F:/3_ACRIN-NSCLC-FDG-PET/ACRIN-NSCLC-FDG-PET'\n"
     ]
    },
    {
     "name": "stderr",
     "output_type": "stream",
     "text": [
      "100%|██████████| 950/950 [00:21<00:00, 44.90it/s]\n"
     ]
    },
    {
     "name": "stdout",
     "output_type": "stream",
     "text": [
      "ACRIN-NSCLC-FDG-PET, # of Study=950 # of PET=997, # of CT=2259\n",
      "\n",
      "path_to_data='F:/4_RIDER Lung PET-CT/RIDER Lung PET-CT'\n"
     ]
    },
    {
     "name": "stderr",
     "output_type": "stream",
     "text": [
      "100%|██████████| 287/287 [00:07<00:00, 38.30it/s]\n"
     ]
    },
    {
     "name": "stdout",
     "output_type": "stream",
     "text": [
      "RIDER Lung PET-CT, # of Study=287 # of PET=513, # of CT=815\n",
      "\n",
      "path_to_data='F:/11_CPTAC-CM/CPTAC-CCRCC'\n"
     ]
    },
    {
     "name": "stderr",
     "output_type": "stream",
     "text": [
      "100%|██████████| 78/78 [00:04<00:00, 19.35it/s]\n"
     ]
    },
    {
     "name": "stdout",
     "output_type": "stream",
     "text": [
      "CPTAC-CCRCC, # of Study=78 # of PET=0, # of CT=528\n",
      "\n",
      "path_to_data='F:/11_CPTAC-CM/CPTAC-CM'\n"
     ]
    },
    {
     "name": "stderr",
     "output_type": "stream",
     "text": [
      "100%|██████████| 19/19 [00:01<00:00, 15.94it/s]\n"
     ]
    },
    {
     "name": "stdout",
     "output_type": "stream",
     "text": [
      "CPTAC-CM, # of Study=19 # of PET=16, # of CT=92\n",
      "\n",
      "path_to_data='F:/14_NSCLC Radiogenomics/NSCLC Radiogenomics'\n"
     ]
    },
    {
     "name": "stderr",
     "output_type": "stream",
     "text": [
      "100%|██████████| 395/395 [00:16<00:00, 23.94it/s]\n"
     ]
    },
    {
     "name": "stdout",
     "output_type": "stream",
     "text": [
      "NSCLC Radiogenomics, # of Study=395 # of PET=480, # of CT=727\n",
      "\n",
      "path_to_data='F:/15 LIDC-IDRI (LUNA 16)/LIDC-IDRI'\n"
     ]
    },
    {
     "name": "stderr",
     "output_type": "stream",
     "text": [
      "100%|██████████| 1308/1308 [00:13<00:00, 98.53it/s] \n"
     ]
    },
    {
     "name": "stdout",
     "output_type": "stream",
     "text": [
      "LIDC-IDRI, # of Study=1308 # of PET=0, # of CT=1018\n",
      "\n",
      "path_to_data='F:/16  COVID-19-NY-SBU/COVID-19-NY-SBU'\n"
     ]
    },
    {
     "name": "stderr",
     "output_type": "stream",
     "text": [
      "100%|██████████| 7361/7361 [09:34<00:00, 12.81it/s]\n"
     ]
    },
    {
     "name": "stdout",
     "output_type": "stream",
     "text": [
      "COVID-19-NY-SBU, # of Study=7361 # of PET=12, # of CT=3730\n",
      "\n",
      "path_to_data='F:/19 MIDRC-RICORD-1B (COVID-19)/MIDRC-RICORD-1B'\n"
     ]
    },
    {
     "name": "stderr",
     "output_type": "stream",
     "text": [
      "100%|██████████| 120/120 [00:00<00:00, 161.20it/s]\n"
     ]
    },
    {
     "name": "stdout",
     "output_type": "stream",
     "text": [
      "MIDRC-RICORD-1B, # of Study=120 # of PET=0, # of CT=120\n",
      "\n",
      "path_to_data='D:/AutoPET_data/4 HNSCC/HNSCC'\n"
     ]
    },
    {
     "name": "stderr",
     "output_type": "stream",
     "text": [
      "100%|██████████| 1100/1100 [00:59<00:00, 18.45it/s]\n"
     ]
    },
    {
     "name": "stdout",
     "output_type": "stream",
     "text": [
      "HNSCC, # of Study=1100 # of PET=1484, # of CT=1205\n",
      "\n",
      "path_to_data='D:/AutoPET_data/7 ACRIN-FLT-Breast/ACRIN-FLT-Breast'\n"
     ]
    },
    {
     "name": "stderr",
     "output_type": "stream",
     "text": [
      "100%|██████████| 380/380 [00:09<00:00, 39.98it/s]\n"
     ]
    },
    {
     "name": "stdout",
     "output_type": "stream",
     "text": [
      "ACRIN-FLT-Breast, # of Study=380 # of PET=941, # of CT=537\n",
      "\n",
      "path_to_data='D:/AutoPET_data/8 CT COLONOGRAPHY/CT COLONOGRAPHY'\n"
     ]
    },
    {
     "name": "stderr",
     "output_type": "stream",
     "text": [
      "100%|██████████| 839/839 [00:20<00:00, 40.79it/s]\n"
     ]
    },
    {
     "name": "stdout",
     "output_type": "stream",
     "text": [
      "CT COLONOGRAPHY, # of Study=839 # of PET=0, # of CT=3451\n",
      "\n",
      "path_to_data='D:/AutoPET_data/12 Anti-PD-1_MELANOMA/Anti-PD-1_MELANOMA'\n"
     ]
    },
    {
     "name": "stderr",
     "output_type": "stream",
     "text": [
      "100%|██████████| 179/179 [00:10<00:00, 17.23it/s]\n"
     ]
    },
    {
     "name": "stdout",
     "output_type": "stream",
     "text": [
      "Anti-PD-1_MELANOMA, # of Study=179 # of PET=31, # of CT=828\n",
      "\n",
      "path_to_data='D:/AutoPET_data/13 Anti-PD-1_Lung/Anti-PD-1_Lung'\n"
     ]
    },
    {
     "name": "stderr",
     "output_type": "stream",
     "text": [
      "100%|██████████| 86/86 [00:04<00:00, 20.32it/s]"
     ]
    },
    {
     "name": "stdout",
     "output_type": "stream",
     "text": [
      "Anti-PD-1_Lung, # of Study=86 # of PET=103, # of CT=571\n",
      "\n"
     ]
    },
    {
     "name": "stderr",
     "output_type": "stream",
     "text": [
      "\n"
     ]
    }
   ],
   "source": [
    "# F_prefix = \"F:\"\n",
    "# dir_name = \"0_AutoPET/FDG-PET-CT-Lesions\"\n",
    "\n",
    "f_paths = [\"F:/0_AutoPET/FDG-PET-CT-Lesions\", \"F:/1_Lung-PET-CT-Dx/Lung-PET-CT-Dx\", \"F:/2_Head-Neck-PET-CT/Head-Neck-PET-CT\", \"F:/3_ACRIN-NSCLC-FDG-PET/ACRIN-NSCLC-FDG-PET\", \"F:/4_RIDER Lung PET-CT/RIDER Lung PET-CT\", \"F:/11_CPTAC-CM/CPTAC-CCRCC\", \"F:/11_CPTAC-CM/CPTAC-CM\", \"F:/14_NSCLC Radiogenomics/NSCLC Radiogenomics\", \"F:/15 LIDC-IDRI (LUNA 16)/LIDC-IDRI\", \"F:/16  COVID-19-NY-SBU/COVID-19-NY-SBU\", \"F:/19 MIDRC-RICORD-1B (COVID-19)/MIDRC-RICORD-1B\"]\n",
    "e_paths = [\"D:/AutoPET_data/4 HNSCC/HNSCC\", \"D:/AutoPET_data/7 ACRIN-FLT-Breast/ACRIN-FLT-Breast\", \"D:/AutoPET_data/8 CT COLONOGRAPHY/CT COLONOGRAPHY\", \"D:/AutoPET_data/12 Anti-PD-1_MELANOMA/Anti-PD-1_MELANOMA\", \"D:/AutoPET_data/13 Anti-PD-1_Lung/Anti-PD-1_Lung\"]\n",
    "\n",
    "paths = f_paths + e_paths\n",
    "for path_to_data in paths[1:]:\n",
    "    print(f'{path_to_data=}')\n",
    "    study_dirs = t2n.find_studies(path_to_data)\n",
    "    PT = 0 \n",
    "    CT = 0 \n",
    "    \n",
    "    # pet_path = []\n",
    "    ct_path = []\n",
    "    for study_dir in tqdm(study_dirs):\n",
    "        modalities = t2n.identify_modalities(study_dir)\n",
    "        \n",
    "        if 'PT' in modalities:\n",
    "            # if isinstance(modalities['PT'], list):\n",
    "                PT += len(modalities['PT']) \n",
    "                # pet_path += modalities['PT']\n",
    "            # else:\n",
    "                # PET += 1 \n",
    "        \n",
    "        if 'CT' in modalities:\n",
    "            # if isinstance(modalities['CT'], list):\n",
    "                CT += len(modalities['CT']) \n",
    "                ct_path += modalities['CT']\n",
    "            # else:\n",
    "                # CT += 1 \n",
    "    \n",
    "    pet_df = pd.DataFrame(ct_path, columns=['CT_path'])\n",
    "    pet_df.to_csv(f'D:/git/autoPET/data_conversion/{path_to_data.split(\"/\")[-1]}_CT.csv', index=False)\n",
    "    print(f'{path_to_data.split(\"/\")[-1]}, # of Study={len(study_dirs)} # of PET={PT}, # of CT={CT}')\n",
    "    print()"
   ]
  },
  {
   "cell_type": "code",
   "execution_count": null,
   "metadata": {},
   "outputs": [],
   "source": [
    "\n",
    "df_list = glob.glob('D:/git/autoPET/data_conversion/CTz/*')\n",
    "for df_path in df_list:\n",
    "\n",
    "    df = pd.read_csv(df_path)\n",
    "    err_path = []\n",
    "    pixdim = []\n",
    "    dim = []\n",
    "    for path in df.CT_path:\n",
    "        li = path.split('\\\\')[2:]\n",
    "        data_dir = '/'.join(li)\n",
    "        output_dir =\"D:/AutoPET_data/CT_dir\" \n",
    "        save_path = output_dir+f'/{data_dir}'\n",
    "        os.makedirs(save_path, exist_ok=True)\n",
    "        \n",
    "        try:\n",
    "            path = plb.Path(path)\n",
    "            first_pt_dcm = next(path.glob('*.dcm'))\n",
    "            # suv_corr_factor = t2n.calculate_suv_factor(first_pt_dcm)\n",
    "\n",
    "            \n",
    "            ### checking per slice \n",
    "            # images = sitk.ReadImage(first_pt_dcm)\n",
    "            # print(f'Image W, H, D = {images.GetWidth()}, {images.GetHeight()}, {images.GetDepth()}')\n",
    "            # print(f'Image dimension: {images.GetDimension()}')\n",
    "            # print(f'Image pixel ID value: {images.GetPixelIDValue()}, pixel ID type {images.GetPixelIDTypeAsString()}')\n",
    "            # data = sitk.GetArrayFromImage(images)\n",
    "            # print(data.shape)\n",
    "            \n",
    "            with tempfile.TemporaryDirectory() as tmp:\n",
    "                tmp = plb.Path(str(tmp))\n",
    "                dicom2nifti.convert_directory(path, str(tmp), compression=True, reorient=True)\n",
    "                nii = next(tmp.glob('*nii.gz'))\n",
    "                shutil.copy(nii, f'{save_path}/CT.nii.gz')\n",
    "                \n",
    "                nii = nib.load(f'{save_path}/CT.nii.gz')\n",
    "                pixdim.append(','.join(map(str, nii.header['pixdim'][1:4])))\n",
    "                dim.append(','.join(map(str, nii.header['dim'][1:4])))\n",
    "        \n",
    "        except :\n",
    "            err_path.append(path)\n",
    "            pixdim.append('err')\n",
    "            dim.append('err')\n",
    "            print(f'caused error number: {len(err_path)}')\n",
    "            print()\n",
    "            continue\n",
    "            \n",
    "    df['pixdim'] = pixdim\n",
    "    df['dim'] = dim\n",
    "    df.to_csv(f'{output_dir}/{li[0]}_info.csv')\n",
    "    \n",
    "    if err_path:\n",
    "        err_df = pd.DataFrame(err_path, columns=['CT_path'])\n",
    "        err_df.to_csv(f'{output_dir}/{li[0]}_err_scans.csv')\n"
   ]
  },
  {
   "cell_type": "code",
   "execution_count": 4,
   "metadata": {},
   "outputs": [],
   "source": [
    "# output_dir =\"D:/AutoPET_data/PET+SUV_dir\"\n",
    "# li = path.split('\\\\')[2:]\n",
    "\n",
    "# err_df = pd.DataFrame(err_path, columns=['PET_path'])\n",
    "# err_df.to_csv(f'{output_dir}/{li[0]}_err_scans.csv')"
   ]
  },
  {
   "cell_type": "code",
   "execution_count": 5,
   "metadata": {},
   "outputs": [
    {
     "name": "stdout",
     "output_type": "stream",
     "text": [
      "<class 'nibabel.nifti1.Nifti1Header'> object, endian='<'\n",
      "sizeof_hdr      : 348\n",
      "data_type       : b''\n",
      "db_name         : b''\n",
      "extents         : 0\n",
      "session_error   : 0\n",
      "regular         : b''\n",
      "dim_info        : 0\n",
      "dim             : [  3 128 128  35   1   1   1   1]\n",
      "intent_p1       : 0.0\n",
      "intent_p2       : 0.0\n",
      "intent_p3       : 0.0\n",
      "intent_code     : none\n",
      "datatype        : float32\n",
      "bitpix          : 32\n",
      "slice_start     : 0\n",
      "pixdim          : [-1.       3.90625  3.90625  4.25     1.       1.       1.       1.     ]\n",
      "vox_offset      : 0.0\n",
      "scl_slope       : nan\n",
      "scl_inter       : nan\n",
      "slice_end       : 0\n",
      "slice_code      : unknown\n",
      "xyzt_units      : 0\n",
      "cal_max         : 0.0\n",
      "cal_min         : 0.0\n",
      "slice_duration  : 0.0\n",
      "toffset         : 0.0\n",
      "glmax           : 0\n",
      "glmin           : 0\n",
      "descrip         : b''\n",
      "aux_file        : b''\n",
      "qform_code      : unknown\n",
      "sform_code      : aligned\n",
      "quatern_b       : 0.0\n",
      "quatern_c       : 1.0\n",
      "quatern_d       : 0.0\n",
      "qoffset_x       : 250.0\n",
      "qoffset_y       : -246.09375\n",
      "qoffset_z       : -213.0\n",
      "srow_x          : [ -3.90625   0.        0.      250.     ]\n",
      "srow_y          : [  -0.         3.90625    0.      -246.09375]\n",
      "srow_z          : [   0.      0.      4.25 -213.  ]\n",
      "intent_name     : b''\n",
      "magic           : b'n+1'\n"
     ]
    }
   ],
   "source": [
    "img = nib.load('D:/AutoPET_data/PET+SUV_dir/ACRIN-FLT-Breast/ACRIN-FLT-Breast_001/01-01-1960-345678-PET-CT STUDY-69206/PET-CT SERIES-00458/SUV.nii.gz')\n",
    "img_data = img.get_fdata() \n",
    "print(img.header)"
   ]
  }
 ],
 "metadata": {
  "kernelspec": {
   "display_name": "base",
   "language": "python",
   "name": "python3"
  },
  "language_info": {
   "codemirror_mode": {
    "name": "ipython",
    "version": 3
   },
   "file_extension": ".py",
   "mimetype": "text/x-python",
   "name": "python",
   "nbconvert_exporter": "python",
   "pygments_lexer": "ipython3",
   "version": "3.11.4"
  },
  "orig_nbformat": 4
 },
 "nbformat": 4,
 "nbformat_minor": 2
}
