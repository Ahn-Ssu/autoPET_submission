{
 "cells": [
  {
   "cell_type": "code",
   "execution_count": 1,
   "metadata": {},
   "outputs": [],
   "source": [
    "# import tcia2nifti as t2n\n",
    "import glob\n",
    "import os\n",
    "from tqdm import tqdm\n",
    "\n",
    "import pandas as pd\n",
    "import pathlib as plb\n",
    "import tempfile\n",
    "import dicom2nifti\n",
    "import SimpleITK as sitk\n",
    "import shutil\n",
    "import nibabel as nib\n",
    "\n",
    "import numpy as np\n",
    "import pandas as pd"
   ]
  },
  {
   "cell_type": "code",
   "execution_count": 2,
   "metadata": {},
   "outputs": [
    {
     "name": "stdout",
     "output_type": "stream",
     "text": [
      "total number of origin candi = 8702\n"
     ]
    },
    {
     "name": "stderr",
     "output_type": "stream",
     "text": [
      "100%|██████████| 8702/8702 [00:00<00:00, 1450323.19it/s]"
     ]
    },
    {
     "name": "stdout",
     "output_type": "stream",
     "text": [
      "0\n"
     ]
    },
    {
     "name": "stderr",
     "output_type": "stream",
     "text": [
      "\n"
     ]
    },
    {
     "data": {
      "text/plain": [
       "(6082,\n",
       " 'd:/AutoPET_data/PET+SUV_dir\\\\ACRIN-FLT-Breast\\\\ACRIN-FLT-Breast_001\\\\01-01-1960-345678-PET-CT STUDY-69206\\\\PET-CT SERIES-00458\\\\PET.nii.gz')"
      ]
     },
     "execution_count": 2,
     "metadata": {},
     "output_type": "execute_result"
    }
   ],
   "source": [
    "data_paths = glob.glob('d:/AutoPET_data/PET+SUV_dir/*/*/*/*/*')\n",
    "print(f'total number of origin candi = {len(data_paths)}')\n",
    "valid_candidates = [] \n",
    "cnt = 0 \n",
    "for path in tqdm(data_paths):\n",
    "    lower_path = path.lower()\n",
    "    path_slice = lower_path.split('\\\\')\n",
    "    if 'uncorrected' in path_slice[-2]:\n",
    "        # print(path)\n",
    "        continue\n",
    "        \n",
    "    if 'no' in path_slice[-2]:\n",
    "        # print(path)\n",
    "        continue\n",
    "        \n",
    "    if 'nac' in path_slice[-2]:\n",
    "        # print(path)\n",
    "        continue\n",
    "    \n",
    "    # if 'suv' in path_slice[-2]:\n",
    "    #     print(path)\n",
    "    #     cnt += 1 \n",
    "        \n",
    "    # print(path)\n",
    "    valid_candidates.append(path)\n",
    "    \n",
    "print(cnt)\n",
    "len(valid_candidates), valid_candidates[0]"
   ]
  },
  {
   "cell_type": "code",
   "execution_count": 3,
   "metadata": {},
   "outputs": [
    {
     "name": "stderr",
     "output_type": "stream",
     "text": [
      "100%|██████████| 6082/6082 [15:17<00:00,  6.63it/s]  "
     ]
    },
    {
     "name": "stdout",
     "output_type": "stream",
     "text": [
      "2398\n"
     ]
    },
    {
     "name": "stderr",
     "output_type": "stream",
     "text": [
      "\n"
     ]
    }
   ],
   "source": [
    "val_intensity_list = [] \n",
    "val_min = []\n",
    "val_max = [] \n",
    "val_shape = []\n",
    "\n",
    "for path in tqdm(valid_candidates):\n",
    "    img = nib.load(path)\n",
    "    img_data = img.get_fdata() \n",
    "    \n",
    "    min, max = np.min(img_data), np.max(img_data)\n",
    "    \n",
    "    if min != 0: \n",
    "        \n",
    "        if min < -10:\n",
    "            continue\n",
    "            # print(min, max, path)\n",
    "        \n",
    "        if abs(min-max) < 5:\n",
    "            continue\n",
    "            # print(min, max, path)\n",
    "            \n",
    "    if max < 10:\n",
    "        continue\n",
    "    \n",
    "    if max > 200:\n",
    "        continue\n",
    "    \n",
    "    val_intensity_list.append(path)\n",
    "    val_min.append(min)\n",
    "    val_max.append(max)\n",
    "    val_shape.append(str(img_data.shape))\n",
    "    \n",
    "print(len(val_intensity_list)) # 1739, 2398"
   ]
  },
  {
   "cell_type": "code",
   "execution_count": 4,
   "metadata": {},
   "outputs": [
    {
     "name": "stderr",
     "output_type": "stream",
     "text": [
      "100%|██████████| 2398/2398 [06:03<00:00,  6.60it/s]\n"
     ]
    }
   ],
   "source": [
    "val_min = []\n",
    "val_max = [] \n",
    "valid_candidates = [] \n",
    "ori_dim = []\n",
    "ori_shape = [] \n",
    "new_shape = []\n",
    "\n",
    "new_spacing = (2.03642,  2.03642, 3.)\n",
    "for path in tqdm(val_intensity_list):\n",
    "    volume = sitk.ReadImage(path)\n",
    "    img = sitk.GetArrayFromImage(volume)\n",
    "    original_spacing = volume.GetSpacing()\n",
    "    original_size    = volume.GetSize()\n",
    "    new_size = [int(round(osz*ospc/nspc)) for osz,ospc,nspc in zip(original_size, original_spacing, new_spacing)]\n",
    "    corresponding_size = sitk.Resample(volume, new_size, sitk.Transform(), sitk.sitkLinear,\n",
    "                         volume.GetOrigin(), new_spacing, volume.GetDirection(), 0,\n",
    "                         volume.GetPixelID())\n",
    "    # print(f'{original_spacing}, {original_size}-->{corresponding_size.GetSize()}')\n",
    "    \n",
    "    H, W, D = corresponding_size.GetSize() \n",
    "    if H < 128:\n",
    "        continue\n",
    "    \n",
    "    if W < 128:\n",
    "        continue\n",
    "    \n",
    "    if D < 96:\n",
    "        continue\n",
    "    \n",
    "    min, max = np.min(img), np.max(img)\n",
    "    \n",
    "    valid_candidates.append(path)\n",
    "    val_min.append(min)\n",
    "    val_max.append(max)\n",
    "    ori_dim.append(str(original_spacing))\n",
    "    ori_shape.append(str(original_size))\n",
    "    new_shape.append(str(corresponding_size.GetSize()))"
   ]
  },
  {
   "cell_type": "code",
   "execution_count": 5,
   "metadata": {},
   "outputs": [
    {
     "data": {
      "text/plain": [
       "2254"
      ]
     },
     "execution_count": 5,
     "metadata": {},
     "output_type": "execute_result"
    }
   ],
   "source": [
    "len(valid_candidates)"
   ]
  },
  {
   "cell_type": "code",
   "execution_count": 6,
   "metadata": {},
   "outputs": [],
   "source": [
    "import pandas as pd \n",
    "\n",
    "df = pd.DataFrame(np.stack([val_min, val_max, ori_dim, ori_shape, new_shape, valid_candidates]).T, columns=['min','max','ori_dim', 'ori_shape','new_shape','path'])\n",
    "df.to_csv('D:/git/autoPET/val_PET(128x128x96)_list.csv')\n"
   ]
  },
  {
   "cell_type": "code",
   "execution_count": 7,
   "metadata": {},
   "outputs": [],
   "source": [
    "df = pd.read_csv('D:\\\\git\\\\autoPET\\\\val_PET(128x128x96)_list.csv')"
   ]
  },
  {
   "cell_type": "code",
   "execution_count": 10,
   "metadata": {},
   "outputs": [
    {
     "data": {
      "text/plain": [
       "'d:/AutoPET_data/PET+SUV_dir\\\\ACRIN-FLT-Breast\\\\ACRIN-FLT-Breast_001\\\\01-04-1960-345678-PET-CT STUDY-28908\\\\PET-CT SERIES-79785\\\\SUV.nii.gz'"
      ]
     },
     "execution_count": 10,
     "metadata": {},
     "output_type": "execute_result"
    }
   ],
   "source": [
    "df.path[0]"
   ]
  },
  {
   "cell_type": "code",
   "execution_count": 8,
   "metadata": {},
   "outputs": [
    {
     "name": "stderr",
     "output_type": "stream",
     "text": [
      "100%|██████████| 2254/2254 [00:58<00:00, 38.70it/s]\n"
     ]
    }
   ],
   "source": [
    "######### for valid_CT img\n",
    "target_root_dir = \"D:\\\\AutoPET_data\\\\valid_SUV\"\n",
    "\n",
    "for path in tqdm(df['path']):\n",
    "    chunk = path.split('/') \n",
    "    \n",
    "    relative = chunk[2]\n",
    "    relative = relative.split('\\\\')\n",
    "    \n",
    "    \n",
    "    target = '\\\\'.join(relative[1:-2]) # 이게 어떤 파일인지 굳이 안 필요함 \n",
    "    filename = relative[-1]\n",
    "    copy = os.path.join(target_root_dir, target)\n",
    "    if not os.path.isdir(copy):\n",
    "        os.makedirs(copy)\n",
    "        \n",
    "    shutil.copy(path, os.path.join(copy,filename))\n"
   ]
  },
  {
   "cell_type": "code",
   "execution_count": null,
   "metadata": {},
   "outputs": [],
   "source": []
  }
 ],
 "metadata": {
  "kernelspec": {
   "display_name": "medical",
   "language": "python",
   "name": "python3"
  },
  "language_info": {
   "codemirror_mode": {
    "name": "ipython",
    "version": 3
   },
   "file_extension": ".py",
   "mimetype": "text/x-python",
   "name": "python",
   "nbconvert_exporter": "python",
   "pygments_lexer": "ipython3",
   "version": "3.11.4"
  },
  "orig_nbformat": 4
 },
 "nbformat": 4,
 "nbformat_minor": 2
}
